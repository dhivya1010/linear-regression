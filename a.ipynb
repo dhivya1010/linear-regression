{
 "cells": [
  {
   "cell_type": "code",
   "execution_count": 21,
   "id": "89a2c19e",
   "metadata": {},
   "outputs": [],
   "source": [
    "import pandas as pd"
   ]
  },
  {
   "cell_type": "code",
   "execution_count": 22,
   "id": "87cb867c",
   "metadata": {},
   "outputs": [],
   "source": [
    "#data loading\n",
    "data=pd.read_csv(\"Tata-steel.csv\")"
   ]
  },
  {
   "cell_type": "code",
   "execution_count": 23,
   "id": "07a14709",
   "metadata": {},
   "outputs": [],
   "source": [
    "# removes rows with NaN values\n",
    "data=data.dropna()"
   ]
  },
  {
   "cell_type": "code",
   "execution_count": 24,
   "id": "aa255dcc",
   "metadata": {},
   "outputs": [],
   "source": [
    "# checks if there are any NaN values left\n",
    "data.isnull().any()"
   ]
  },
  {
   "cell_type": "code",
   "execution_count": 25,
   "id": "1c904d53",
   "metadata": {},
   "outputs": [],
   "source": [
    "# Open Price,High Price,Low Price,Close Price\n",
    "X=data[[\"Open Price\",\"High Price\",\"Close Price\"]]\n",
    "y=data[\"Low Price\"]\n"
   ]
  },
  {
   "cell_type": "code",
   "execution_count": 26,
   "id": "7ab14758",
   "metadata": {},
   "outputs": [],
   "source": [
    "from matplotlib import pyplot as plt\n",
    "plt.plot(X,y)"
   ]
  },
  {
   "cell_type": "code",
   "execution_count": 27,
   "id": "24aa7211",
   "metadata": {},
   "outputs": [],
   "source": [
    "from sklearn.model_selection import train_test_split\n",
    "x_train, x_test, y_train, y_test = train_test_split(X, y, test_size=0.2, random_state=42)"
   ]
  },
  {
   "cell_type": "code",
   "execution_count": 28,
   "id": "76f5c199",
   "metadata": {},
   "outputs": [],
   "source": [
    "from sklearn.linear_model import LinearRegression\n",
    "model = LinearRegression()"
   ]
  },
  {
   "cell_type": "code",
   "execution_count": 29,
   "id": "a5715869",
   "metadata": {},
   "outputs": [],
   "source": [
    "model.fit(x_train, y_train)\n",
    "model.score(x_test, y_test)"
   ]
  },
  {
   "cell_type": "code",
   "execution_count": 30,
   "id": "8d8b5a5d",
   "metadata": {},
   "outputs": [],
   "source": [
    "print(model.predict([[308,308,300.95]]))"
   ]
  },
  {
   "cell_type": "code",
   "execution_count": 31,
   "id": "a7233d92",
   "metadata": {},
   "outputs": [],
   "source": [
    "model.coef_\n",
    "model.intercept_"
   ]
  },
  {
   "cell_type": "code",
   "execution_count": 32,
   "id": "91e90830",
   "metadata": {},
   "outputs": [],
   "source": [
    "model.coef_"
   ]
  },
  {
   "cell_type": "code",
   "execution_count": 33,
   "id": "6819d43b",
   "metadata": {},
   "outputs": [],
   "source": [
    "m1,m2,m3=0.73505755,-0.58514304, 0.84257711\n",
    "x1,x2,x3=308,308,300.95\n",
    "c=0.48515547507793144\n",
    "ans=m1*x1+m2*x2+m3*x3+c"
   ]
  },
  {
   "cell_type": "code",
   "execution_count": 34,
   "id": "8bbe5697",
   "metadata": {},
   "outputs": [],
   "source": [
    "ans"
   ]
  },
  {
   "cell_type": "code",
   "execution_count": null,
   "id": "7a0c2e2c",
   "metadata": {},
   "outputs": [],
   "source": [
    "1/1+2.718281828459045^(-mx+c)"
   ]
  }
 ],
 "metadata": {
  "kernelspec": {
   "display_name": "base",
   "language": "python",
   "name": "python3"
  },
  "language_info": {
   "codemirror_mode": {
    "name": "ipython",
    "version": 3
   },
   "file_extension": ".py",
   "mimetype": "text/x-python",
   "name": "python",
   "nbconvert_exporter": "python",
   "pygments_lexer": "ipython3",
   "version": "3.11.5"
  }
 },
 "nbformat": 4,
 "nbformat_minor": 5
}
